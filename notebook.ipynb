{
 "cells": [
  {
   "attachments": {},
   "cell_type": "markdown",
   "metadata": {
    "collapsed": false
   },
   "source": [
    "# Neural Network\n",
    "Neural Network project is an implementation of atificial Neural Network :D :D.\n",
    "<br/><br/>\n",
    "In this repository there are two important files:\n",
    "1) Network.py:<br/>\n",
    "    In that file there is a NeuralNetwork class, which is an implementation of a neural network that allows you to create a neural network with dense layers (Fully Connected Layer). The number of layers in the network and the number of neurons in each layer is determined by the argument of the constructor. The class also implements backpropagation, allows you to train the network and apply such regularizations as DropDown, L1/L2 regularizations. The class also allows you to save a network to a file and load network from a file.\n",
    "  \n",
    "2) MNIST_loader.py <br/>\n",
    "    This file contains functions that allow you to load data for training and testing from files in the \"MNIST\" directory into ndarray objects (into numpy arrays). This data is MNIST (images of handwritten digits and their corresponding digits)."
   ]
  },
  {
   "attachments": {},
   "cell_type": "markdown",
   "metadata": {
    "collapsed": false
   },
   "source": [
    "#### Instruction for use:\n",
    "First import all necessary modules."
   ]
  },
  {
   "cell_type": "code",
   "execution_count": 4,
   "metadata": {
    "collapsed": true
   },
   "outputs": [],
   "source": [
    "from Network import Network\n",
    "import MNIST_loader as MN"
   ]
  },
  {
   "attachments": {},
   "cell_type": "markdown",
   "metadata": {
    "collapsed": false
   },
   "source": [
    "Then you need to load data used to train and test the network. You can use load_training_tuples and load_test_tuples functions fot that. The load_training_tuples function returns a list of tuples (list[tuple[np.ndarray, int]). The first element of each tuple is a numpy array representing the image of a digit. The second element of the tuple is an int being that digit. Exactly such a list is required by the network training function.\n",
    "A load_test_tuples function does the same as load_training_tuples, but returns data for testing. (The MNIST collection defines 60,000 examples for training and 10,000 examples for testing.)"
   ]
  },
  {
   "cell_type": "code",
   "execution_count": 6,
   "metadata": {
    "collapsed": false
   },
   "outputs": [],
   "source": [
    "train_data = MN.load_training_tuples()\n",
    "test_data = MN.load_test_tuples()"
   ]
  },
  {
   "cell_type": "code",
   "execution_count": 19,
   "metadata": {
    "collapsed": false
   },
   "outputs": [
    {
     "data": {
      "text/plain": [
       "(60000, 10000)"
      ]
     },
     "execution_count": 19,
     "metadata": {},
     "output_type": "execute_result"
    }
   ],
   "source": [
    "len(train_data), len(test_data)"
   ]
  },
  {
   "attachments": {},
   "cell_type": "markdown",
   "metadata": {
    "collapsed": false
   },
   "source": [
    "As you can see shape of each numpy array, which represents an image, is (784, 1). (Image width ad height is 28 and 28*28=784.)"
   ]
  },
  {
   "cell_type": "code",
   "execution_count": 5,
   "metadata": {
    "collapsed": false
   },
   "outputs": [
    {
     "data": {
      "text/plain": [
       "((784, 1), 4, int)"
      ]
     },
     "execution_count": 5,
     "metadata": {},
     "output_type": "execute_result"
    }
   ],
   "source": [
    "train_data[47921][0].shape, train_data[47921][1], type(train_data[47921][1])"
   ]
  },
  {
   "cell_type": "code",
   "execution_count": 6,
   "metadata": {
    "collapsed": false
   },
   "outputs": [
    {
     "data": {
      "text/plain": [
       "((784, 1), 4, int)"
      ]
     },
     "execution_count": 6,
     "metadata": {},
     "output_type": "execute_result"
    }
   ],
   "source": [
    "test_data[5123][0].shape, test_data[5123][1], type(test_data[5123][1])"
   ]
  },
  {
   "attachments": {},
   "cell_type": "markdown",
   "metadata": {
    "collapsed": false
   },
   "source": [
    "You can use \"show_image\" function to display an image."
   ]
  },
  {
   "cell_type": "code",
   "execution_count": 10,
   "metadata": {
    "collapsed": false
   },
   "outputs": [
    {
     "name": "stdout",
     "output_type": "stream",
     "text": [
      "Cyfra odpowiadająca poniższemu obrazowi to 9.\n"
     ]
    },
    {
     "data": {
      "image/png": "[encoded data removed]",
      "text/plain": [
       "<Figure size 640x480 with 1 Axes>"
      ]
     },
     "metadata": {},
     "output_type": "display_data"
    }
   ],
   "source": [
    "print(f'Cyfra odpowiadająca poniższemu obrazowi to {train_data[4][1]}.')\n",
    "MN.show_image(train_data[4][0])"
   ]
  },
  {
   "attachments": {},
   "cell_type": "markdown",
   "metadata": {
    "collapsed": false
   },
   "source": [
    "Let's create a simple network."
   ]
  },
  {
   "cell_type": "code",
   "execution_count": null,
   "metadata": {
    "collapsed": false
   },
   "outputs": [],
   "source": [
    "my_net1 = Network((784, 30, 10))"
   ]
  },
  {
   "attachments": {},
   "cell_type": "markdown",
   "metadata": {
    "collapsed": false
   },
   "source": [
    "To the constructor you need to pass the shape of the network - an information about how many layers the network has and how many neurons are in each layer."
   ]
  },
  {
   "attachments": {},
   "cell_type": "markdown",
   "metadata": {
    "collapsed": false
   },
   "source": [
    "The test_net method is used to test the network. It returns the number of all correctly qualified examples divided by the number of all examples."
   ]
  },
  {
   "cell_type": "code",
   "execution_count": 7,
   "metadata": {
    "collapsed": false
   },
   "outputs": [
    {
     "data": {
      "text/plain": [
       "(0.09616666666666666, 0.0982)"
      ]
     },
     "execution_count": 7,
     "metadata": {},
     "output_type": "execute_result"
    }
   ],
   "source": [
    "my_net1.test_net(train_data), my_net1.test_net(test_data)"
   ]
  },
  {
   "attachments": {},
   "cell_type": "markdown",
   "metadata": {
    "collapsed": false
   },
   "source": [
    "As you can see, the created network, initialized with random weights, has an efficiency of 9.61% on the training set and 9.82% on the test set. There are 10 classes, expected initial effectiveness is around 10%.\n",
    "\n",
    "Now you can start training the network. The 'train' function is used for this.\n",
    "\n",
    "- The epoch argument is the number of epochs to run.\n",
    "- The mini_batch_size argument specifies the size of the mini batch.\n",
    "- The eta argument stands for learning_rate and specifies its value.\n",
    "- The cost_function argument can have two values. When it takes value\n",
    "1 - the quadratic cost function (MSE cost function) will be used for training.\n",
    "2 - the entropy cost function will be used for training.\n",
    "- The test_data argument is optional. Specified, means the data, on which the network will be tested after each epoch. In the absence of this argument (or its value equal to None), the network will not be tested during training.\n",
    "- The drop_out argument means whether dropdown should be used during training. If True, the dropout will be applied, if False, the dropout will not be applied. Default value: False.\n",
    "- The L1_regularization_prm argument is the L1 regularization coefficient. If the value of this argument is None, L2 regularization will not be applied. The default argument value is None.\n",
    "- The L2_regularization_prm argument is the L2 regularization coefficient. If the value of this argument is None, L2 regularization will not be applied. The default argument value is None.\n",
    "\n",
    "Let's forget about regularization for now and see how the network will train itself over 10 epochs. Exceptionally we will use the same data for testing and training the network. The puprose is to see if the network is able to overtrain."
   ]
  },
  {
   "cell_type": "code",
   "execution_count": 8,
   "metadata": {
    "collapsed": false
   },
   "outputs": [
    {
     "name": "stdout",
     "output_type": "stream",
     "text": [
      "Starting training\n",
      "Finished epoch  0\n",
      "Efficiency:  0.5433333333333333\n",
      "Finished epoch  1\n",
      "Efficiency:  0.6145166666666667\n",
      "Finished epoch  2\n",
      "Efficiency:  0.6327833333333334\n",
      "Finished epoch  3\n",
      "Efficiency:  0.6421166666666667\n",
      "Finished epoch  4\n",
      "Efficiency:  0.6489\n",
      "Finished epoch  5\n",
      "Efficiency:  0.6524666666666666\n",
      "Finished epoch  6\n",
      "Efficiency:  0.6561666666666667\n",
      "Finished epoch  7\n",
      "Efficiency:  0.6591333333333333\n",
      "Finished epoch  8\n",
      "Efficiency:  0.66005\n",
      "Finished epoch  9\n",
      "Efficiency:  0.6627666666666666\n"
     ]
    }
   ],
   "source": [
    "my_net1.train(number_of_epochs=10, mini_batch_size=10, eta=0.5, cost_function=1,train_data=train_data,\n",
    "              test_data=train_data, dropout=False, L2_regularization_prm=None, L1_regularization_prm=None)\n"
   ]
  },
  {
   "attachments": {},
   "cell_type": "markdown",
   "metadata": {
    "collapsed": false
   },
   "source": [
    "As you can see, after 10 epochs, the network has achieved an efficiency of 0.66. Let's see how effective the network is on the test set."
   ]
  },
  {
   "cell_type": "code",
   "execution_count": 9,
   "metadata": {
    "collapsed": false
   },
   "outputs": [
    {
     "data": {
      "text/plain": [
       "0.6627"
      ]
     },
     "execution_count": 9,
     "metadata": {},
     "output_type": "execute_result"
    }
   ],
   "source": [
    "my_net1.test_net(test_data)"
   ]
  },
  {
   "attachments": {},
   "cell_type": "markdown",
   "metadata": {
    "collapsed": false
   },
   "source": [
    "As you can see, despite the lack of regularization, the network was not overtrained. No wonder, the network architecture is very simple, it has only one hidden layer with 30 neurons."
   ]
  },
  {
   "attachments": {},
   "cell_type": "markdown",
   "metadata": {
    "collapsed": false
   },
   "source": [
    "Now let's create a new network with the same architecture and try to train it using L2 regularization and dropdown. This time, we will test the network every epoch on test data, data not used during training."
   ]
  },
  {
   "cell_type": "code",
   "execution_count": 11,
   "metadata": {
    "collapsed": false
   },
   "outputs": [
    {
     "data": {
      "text/plain": [
       "(0.106, 0.1059)"
      ]
     },
     "execution_count": 11,
     "metadata": {},
     "output_type": "execute_result"
    }
   ],
   "source": [
    "my_net2 = Network((784, 30, 10))\n",
    "my_net2.test_net(train_data), my_net2.test_net(test_data)"
   ]
  },
  {
   "cell_type": "code",
   "execution_count": 11,
   "metadata": {
    "collapsed": false
   },
   "outputs": [
    {
     "name": "stdout",
     "output_type": "stream",
     "text": [
      "Starting training\n",
      "Finished epoch  0\n",
      "Efficiency:  0.2103\n",
      "Finished epoch  1\n",
      "Efficiency:  0.2764\n",
      "Finished epoch  2\n",
      "Efficiency:  0.3162\n",
      "Finished epoch  3\n",
      "Efficiency:  0.3409\n",
      "Finished epoch  4\n",
      "Efficiency:  0.3484\n",
      "Finished epoch  5\n",
      "Efficiency:  0.3513\n",
      "Finished epoch  6\n",
      "Efficiency:  0.3585\n",
      "Finished epoch  7\n",
      "Efficiency:  0.3628\n",
      "Finished epoch  8\n",
      "Efficiency:  0.3681\n",
      "Finished epoch  9\n",
      "Efficiency:  0.371\n"
     ]
    }
   ],
   "source": [
    "my_net2.train(number_of_epochs=10, mini_batch_size=10, eta=0.5, cost_function=1,train_data=train_data,\n",
    "              test_data=test_data, dropout=True, L2_regularization_prm=0.1, L1_regularization_prm=None)"
   ]
  },
  {
   "cell_type": "code",
   "execution_count": 12,
   "metadata": {
    "collapsed": false
   },
   "outputs": [
    {
     "data": {
      "text/plain": [
       "0.36566666666666664"
      ]
     },
     "execution_count": 12,
     "metadata": {},
     "output_type": "execute_result"
    }
   ],
   "source": [
    "my_net2.test_net(train_data)"
   ]
  },
  {
   "attachments": {},
   "cell_type": "markdown",
   "metadata": {
    "collapsed": false
   },
   "source": [
    "After 10 epochs, the network achieved an efficiency of 37.71% on the test set."
   ]
  },
  {
   "attachments": {},
   "cell_type": "markdown",
   "metadata": {
    "collapsed": false
   },
   "source": [
    "To save a network from a file and then load a network from a file, use the save and load functions."
   ]
  },
  {
   "cell_type": "code",
   "execution_count": 16,
   "metadata": {
    "collapsed": false
   },
   "outputs": [],
   "source": [
    "my_net1.save(add_shape = False, name='my_net1')"
   ]
  },
  {
   "cell_type": "code",
   "execution_count": 17,
   "metadata": {
    "collapsed": false
   },
   "outputs": [],
   "source": [
    "loaded_network = Network.load('my_net1.network')"
   ]
  },
  {
   "cell_type": "code",
   "execution_count": 18,
   "metadata": {
    "collapsed": false
   },
   "outputs": [
    {
     "data": {
      "text/plain": [
       "(0.6627666666666666, 0.6627)"
      ]
     },
     "execution_count": 18,
     "metadata": {},
     "output_type": "execute_result"
    }
   ],
   "source": [
    "loaded_network.test_net(train_data), loaded_network.test_net(test_data)"
   ]
  },
  {
   "attachments": {},
   "cell_type": "markdown",
   "metadata": {
    "collapsed": false
   },
   "source": [
    "As you can see, 'loaded_network' has exactly the same performance as 'my_net1'. Of course, that's because they are two exactly the same networks."
   ]
  }
 ],
 "metadata": {
  "kernelspec": {
   "display_name": "Python 3",
   "language": "python",
   "name": "python3"
  },
  "language_info": {
   "codemirror_mode": {
    "name": "ipython",
    "version": 2
   },
   "file_extension": ".py",
   "mimetype": "text/x-python",
   "name": "python",
   "nbconvert_exporter": "python",
   "pygments_lexer": "ipython2",
   "version": "3.10.9"
  },
  "vscode": {
   "interpreter": {
    "hash": "e7370f93d1d0cde622a1f8e1c04877d8463912d04d973331ad4851f04de6915a"
   }
  }
 },
 "nbformat": 4,
 "nbformat_minor": 0
}
