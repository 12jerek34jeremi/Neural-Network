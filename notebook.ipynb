{
 "cells": [
  {
   "cell_type": "markdown",
   "source": [
    "# Neural Network\n",
    "W tym repozytorium ważne są tak naprawdę dwa pliki:\n",
    "1) Network.py:\n",
    " Znajduje się w nim klasa Network będąca implementacją sieci neuronowej, pozwalającej na utworzenie sieci neuronwej z warstwami gęstymi (Fully Connected Layer). Ilość warst w sieci oraz ilość neuronów w każdej warstwie określa się przez argument konstruktora. Klasa implementuje też propagację wsteczną, umożliwia trenowanie sieci i zastosowanie takich regularyzacji jak DropDown, L1/L2 regularisation. Klasa umożliwia też zapisywane sieci w pliku i wczytawanie sieci z pliku.\n",
    "2) MNIST_loader.py\n",
    "    W pliku tym znajdują się funkcje pozwalające na załadowanie danych do trenowania i testowania z plików, znajdujących się w katalogu \"MNIST\", do obiektów ndarray (do tablic numpy). Dane te to MNIST (obrazy ręcznie pisanych cyfr oraz odpowiadające im cyfry)."
   ],
   "metadata": {
    "collapsed": false
   }
  },
  {
   "cell_type": "markdown",
   "source": [
    "Instrukcja używania:\n",
    "Najpierw należy zaimportować wszystkie potrzebne rzeczy."
   ],
   "metadata": {
    "collapsed": false
   }
  },
  {
   "cell_type": "code",
   "execution_count": 4,
   "metadata": {
    "collapsed": true
   },
   "outputs": [],
   "source": [
    "from Network import Network\n",
    "import MNIST_loader as MN"
   ]
  },
  {
   "cell_type": "markdown",
   "source": [
    "Funkcja load_training_tuples zwraza listę tupli (list[tuple[np.ndarray, int]). Pierwszy element każdego tupla to tablica numpy reprezentująca obraz przedstawiający daną cyfrę, drugi element tupli to int będący tą cyfrą. Dokładnie takiej listy będzie wymagała funkcja trenująca sieć.\n",
    "Funkcja load_test_tuples robi to samo co funkcja load_training_tuples, ale zwraca dane do testowania. (Zbiór MNIST definiuje 60 tyś przykładów do trenowania i 10 tyś przykładów do testowania.)"
   ],
   "metadata": {
    "collapsed": false
   }
  },
  {
   "cell_type": "code",
   "execution_count": 6,
   "outputs": [],
   "source": [
    "train_data = MN.load_training_tuples()\n",
    "test_data = MN.load_test_tuples()"
   ],
   "metadata": {
    "collapsed": false
   }
  },
  {
   "cell_type": "code",
   "execution_count": 19,
   "outputs": [
    {
     "data": {
      "text/plain": "(60000, 10000)"
     },
     "execution_count": 19,
     "metadata": {},
     "output_type": "execute_result"
    }
   ],
   "source": [
    "len(train_data), len(test_data)"
   ],
   "metadata": {
    "collapsed": false
   }
  },
  {
   "cell_type": "markdown",
   "source": [
    "Jak widać, kształt każdej tablicy numpy reprezentującej obraz to (784,1) (784=28*28)."
   ],
   "metadata": {
    "collapsed": false
   }
  },
  {
   "cell_type": "code",
   "execution_count": 5,
   "outputs": [
    {
     "data": {
      "text/plain": "((784, 1), 4, int)"
     },
     "execution_count": 5,
     "metadata": {},
     "output_type": "execute_result"
    }
   ],
   "source": [
    "train_data[47921][0].shape, train_data[47921][1], type(train_data[47921][1])"
   ],
   "metadata": {
    "collapsed": false
   }
  },
  {
   "cell_type": "code",
   "execution_count": 6,
   "outputs": [
    {
     "data": {
      "text/plain": "((784, 1), 4, int)"
     },
     "execution_count": 6,
     "metadata": {},
     "output_type": "execute_result"
    }
   ],
   "source": [
    "test_data[5123][0].shape, test_data[5123][1], type(test_data[5123][1])"
   ],
   "metadata": {
    "collapsed": false
   }
  },
  {
   "cell_type": "markdown",
   "source": [
    "Do wyświetlenia obrazu można użyć funkcji 'show_image'."
   ],
   "metadata": {
    "collapsed": false
   }
  },
  {
   "cell_type": "code",
   "execution_count": 10,
   "outputs": [
    {
     "name": "stdout",
     "output_type": "stream",
     "text": [
      "Cyfra odpowiadająca poniższemu obrazowi to 9.\n"
     ]
    },
    {
     "data": {
      "text/plain": "<Figure size 640x480 with 1 Axes>",
      "image/png": "[encoded data removed]"
     },
     "metadata": {},
     "output_type": "display_data"
    }
   ],
   "source": [
    "print(f'Cyfra odpowiadająca poniższemu obrazowi to {train_data[4][1]}.')\n",
    "MN.show_image(train_data[4][0])"
   ],
   "metadata": {
    "collapsed": false
   }
  },
  {
   "cell_type": "markdown",
   "source": [
    "Utwórzmy prostą sieć:"
   ],
   "metadata": {
    "collapsed": false
   }
  },
  {
   "cell_type": "code",
   "execution_count": 0,
   "outputs": [],
   "source": [
    "my_net1 = Network((784, 30, 10))"
   ],
   "metadata": {
    "collapsed": false
   }
  },
  {
   "cell_type": "markdown",
   "source": [
    "Konstruktor wymaga podania kształtu sieci - informacji o tym, ile ma być warstw oraz ile ma być w każdej warstwie neuronów. Opcjonalnie można podać także nazwę sieci."
   ],
   "metadata": {
    "collapsed": false
   }
  },
  {
   "cell_type": "markdown",
   "source": [
    "Do testowania sieci służy metoda test_net. Zwraca ona liczbę wszystkich poprawnie zakwalifikowanych przykładów podzieloną przez liczbę wszystkich przykładów."
   ],
   "metadata": {
    "collapsed": false
   }
  },
  {
   "cell_type": "code",
   "execution_count": 7,
   "outputs": [
    {
     "data": {
      "text/plain": "(0.09616666666666666, 0.0982)"
     },
     "execution_count": 7,
     "metadata": {},
     "output_type": "execute_result"
    }
   ],
   "source": [
    "my_net1.test_net(train_data), my_net1.test_net(test_data)"
   ],
   "metadata": {
    "collapsed": false
   }
  },
  {
   "cell_type": "markdown",
   "source": [
    "Jak widać, utworzona sieć, zaincjalizowana losowymi wagami, ma skuteczność 9.61% na zbiorze treningowym i 9.82% na zbiorze testowym. Jest 10 klas, spodziewana spoczątkowa skuteczność to około 10%.\n",
    "\n",
    "Teraz można zacząć trenować sieć. Służy do tego funkcja 'train'.\n",
    "\n",
    "- Argument epoch oznacza liczbę epok do wykonania.\n",
    "- Argument mini_batch_size określa wielkość mini batcha\n",
    "- Argument eta oznacza learning_rate i określa jej wartość.\n",
    "- Argument cost_function może przyjmować dwie wartośc. Gdy przujmuje on wartość\n",
    "1 - do trenowania zostania użyta kwadratowa funkcja kosztu (MSE cost function)\n",
    "2 -do trenowania zostanie użyta etropiczna funkcja kosztu (entropy cost function)\n",
    "- Argument test_data jest opcjonalny. Podany oznacza dane, na których sieć będzie testowana po każdej epoce. W przypadku braku tego argumentu (lub jego wartości równej None), sieć nie będzie testowana w trakcie trenowania.\n",
    "- Argument drop_out oznacza czy podczas trenowania ma zostać użyty dropdown. W przypadku wartości True dropout zostanie zastosowany, w przypadku wartości False dropout nie zostanie zastosowany. Domyślna wartość: False.\n",
    "- Argument L1_regularization_prm oznacza współczynnik regularacji L1. Jeżeli wartość tego argumentu to None, to regularyzacja L2 nie zostanie zastosowana. Domyślna wartość arguemntu to None.\n",
    "- Argument L2_regularization_prm oznacza współczynnik regularacji L2. Jeżeli wartość tego argumentu to None, to regularyzacja L2 nie zostanie zastosowana. Domyślna wartość arguemntu to None.\n",
    "\n",
    "Zapomnijmy na razie regularyzacji, zobaczmy jak sieć wytrenuje się przez 10 epok.  Wyjątkowo co epokę będziemy testować sieć na zbiorze treningowym, na tym samym na którym trenujemy.\n",
    "\n"
   ],
   "metadata": {
    "collapsed": false
   }
  },
  {
   "cell_type": "code",
   "execution_count": 8,
   "outputs": [
    {
     "name": "stdout",
     "output_type": "stream",
     "text": [
      "Starting training\n",
      "Finished epoch  0\n",
      "Efficiency:  0.5433333333333333\n",
      "Finished epoch  1\n",
      "Efficiency:  0.6145166666666667\n",
      "Finished epoch  2\n",
      "Efficiency:  0.6327833333333334\n",
      "Finished epoch  3\n",
      "Efficiency:  0.6421166666666667\n",
      "Finished epoch  4\n",
      "Efficiency:  0.6489\n",
      "Finished epoch  5\n",
      "Efficiency:  0.6524666666666666\n",
      "Finished epoch  6\n",
      "Efficiency:  0.6561666666666667\n",
      "Finished epoch  7\n",
      "Efficiency:  0.6591333333333333\n",
      "Finished epoch  8\n",
      "Efficiency:  0.66005\n",
      "Finished epoch  9\n",
      "Efficiency:  0.6627666666666666\n"
     ]
    }
   ],
   "source": [
    "my_net1.train(number_of_epochs=10, mini_batch_size=10, eta=0.5, cost_function=1,train_data=train_data,\n",
    "              test_data=train_data, dropout=False, L2_regularization_prm=None, L1_regularization_prm=None)\n"
   ],
   "metadata": {
    "collapsed": false
   }
  },
  {
   "cell_type": "markdown",
   "source": [
    "Jak widać po 10 epokach sieć osiągneła skuteczność 0.66. Zobaczmy jaka jest skuteczność sieci na zbiorze testowym."
   ],
   "metadata": {
    "collapsed": false
   }
  },
  {
   "cell_type": "code",
   "execution_count": 9,
   "outputs": [
    {
     "data": {
      "text/plain": "0.6627"
     },
     "execution_count": 9,
     "metadata": {},
     "output_type": "execute_result"
    }
   ],
   "source": [
    "my_net1.test_net(test_data)"
   ],
   "metadata": {
    "collapsed": false
   }
  },
  {
   "cell_type": "markdown",
   "source": [
    "Jak widać pomimo braku regularyzacji sieć się nie przetrenowała. Nic dziwnego, architektura sieci jest bardzo prosta. Sieć posiada tylko jedną warstwe ukrytą, posiadającą 30 neuronów."
   ],
   "metadata": {
    "collapsed": false
   }
  },
  {
   "cell_type": "markdown",
   "source": [
    "Stwórzmy teraz nową sieć, o tej samej architekturze, i spróbujmy ja wytrenować z zastosowaniem regularyzacji L2 oraz dropdown'u. Tym razem co epokę będziemy sieć testować na danych testowych, nie używanych podczas trenowania."
   ],
   "metadata": {
    "collapsed": false
   }
  },
  {
   "cell_type": "code",
   "execution_count": 11,
   "outputs": [
    {
     "data": {
      "text/plain": "(0.106, 0.1059)"
     },
     "execution_count": 11,
     "metadata": {},
     "output_type": "execute_result"
    }
   ],
   "source": [
    "my_net2 = Network((784, 30, 10))\n",
    "my_net2.test_net(train_data), my_net2.test_net(test_data)"
   ],
   "metadata": {
    "collapsed": false
   }
  },
  {
   "cell_type": "code",
   "execution_count": 11,
   "outputs": [
    {
     "name": "stdout",
     "output_type": "stream",
     "text": [
      "Starting training\n",
      "Finished epoch  0\n",
      "Efficiency:  0.2103\n",
      "Finished epoch  1\n",
      "Efficiency:  0.2764\n",
      "Finished epoch  2\n",
      "Efficiency:  0.3162\n",
      "Finished epoch  3\n",
      "Efficiency:  0.3409\n",
      "Finished epoch  4\n",
      "Efficiency:  0.3484\n",
      "Finished epoch  5\n",
      "Efficiency:  0.3513\n",
      "Finished epoch  6\n",
      "Efficiency:  0.3585\n",
      "Finished epoch  7\n",
      "Efficiency:  0.3628\n",
      "Finished epoch  8\n",
      "Efficiency:  0.3681\n",
      "Finished epoch  9\n",
      "Efficiency:  0.371\n"
     ]
    }
   ],
   "source": [
    "my_net2.train(number_of_epochs=10, mini_batch_size=10, eta=0.5, cost_function=1,train_data=train_data,\n",
    "              test_data=test_data, dropout=True, L2_regularization_prm=0.1, L1_regularization_prm=None)"
   ],
   "metadata": {
    "collapsed": false
   }
  },
  {
   "cell_type": "code",
   "execution_count": 12,
   "outputs": [
    {
     "data": {
      "text/plain": "0.36566666666666664"
     },
     "execution_count": 12,
     "metadata": {},
     "output_type": "execute_result"
    }
   ],
   "source": [
    "my_net2.test_net(train_data)"
   ],
   "metadata": {
    "collapsed": false
   }
  },
  {
   "cell_type": "markdown",
   "source": [
    "Po 10 epokach sieć osiągneła skuteczność 37.71% na zbiorze testowym."
   ],
   "metadata": {
    "collapsed": false
   }
  },
  {
   "cell_type": "markdown",
   "source": [
    "Aby zapisać sieć z pliku, a następnie załadować sieć z pliku, należy użyć funkcji save oraz load."
   ],
   "metadata": {
    "collapsed": false
   }
  },
  {
   "cell_type": "code",
   "execution_count": 16,
   "outputs": [],
   "source": [
    "my_net1.save(add_shape = False, name='my_net1')"
   ],
   "metadata": {
    "collapsed": false
   }
  },
  {
   "cell_type": "code",
   "execution_count": 17,
   "outputs": [],
   "source": [
    "loaded_network = Network.load('my_net1.network')"
   ],
   "metadata": {
    "collapsed": false
   }
  },
  {
   "cell_type": "code",
   "execution_count": 18,
   "outputs": [
    {
     "data": {
      "text/plain": "(0.6627666666666666, 0.6627)"
     },
     "execution_count": 18,
     "metadata": {},
     "output_type": "execute_result"
    }
   ],
   "source": [
    "loaded_network.test_net(train_data), loaded_network.test_net(test_data)"
   ],
   "metadata": {
    "collapsed": false
   }
  },
  {
   "cell_type": "markdown",
   "source": [
    "Jak widać sieć 'loaded_network' ma dokładnie taką samą skuteczność jak sieć 'my_net1'. Oczywiście dlatego, że są to dwia dokładnie takie same sieci."
   ],
   "metadata": {
    "collapsed": false
   }
  },
  {
   "cell_type": "code",
   "execution_count": null,
   "outputs": [],
   "source": [],
   "metadata": {
    "collapsed": false
   }
  },
  {
   "cell_type": "code",
   "execution_count": null,
   "outputs": [],
   "source": [],
   "metadata": {
    "collapsed": false
   }
  }
 ],
 "metadata": {
  "kernelspec": {
   "display_name": "Python 3",
   "language": "python",
   "name": "python3"
  },
  "language_info": {
   "codemirror_mode": {
    "name": "ipython",
    "version": 2
   },
   "file_extension": ".py",
   "mimetype": "text/x-python",
   "name": "python",
   "nbconvert_exporter": "python",
   "pygments_lexer": "ipython2",
   "version": "2.7.6"
  }
 },
 "nbformat": 4,
 "nbformat_minor": 0
}
